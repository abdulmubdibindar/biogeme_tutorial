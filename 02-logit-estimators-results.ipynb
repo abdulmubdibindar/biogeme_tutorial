{
 "cells": [
  {
   "cell_type": "markdown",
   "metadata": {},
   "source": [
    "# How to use different estimators and how to interpret the results"
   ]
  },
  {
   "cell_type": "code",
   "execution_count": null,
   "metadata": {},
   "outputs": [],
   "source": [
    "import pandas  as pd\n",
    "import biogeme.database  as db\n",
    "import biogeme.biogeme  as bio\n",
    "import biogeme.optimization as opt\n",
    "from IPython.display import display, HTML"
   ]
  },
  {
   "cell_type": "markdown",
   "metadata": {},
   "source": [
    "**Import Swissmetro data**"
   ]
  },
  {
   "cell_type": "code",
   "execution_count": null,
   "metadata": {},
   "outputs": [],
   "source": [
    "pandas = pd.read_csv(\"data/swissmetro.dat\",sep='\\t')\n",
    "database = db.Database(\"data/swissmetro\", pandas)"
   ]
  },
  {
   "cell_type": "markdown",
   "metadata": {},
   "source": [
    "**Use collumn names as variables**"
   ]
  },
  {
   "cell_type": "code",
   "execution_count": null,
   "metadata": {},
   "outputs": [],
   "source": [
    "from headers import *"
   ]
  },
  {
   "cell_type": "markdown",
   "metadata": {},
   "source": [
    "**Exclude some unwanted entries**"
   ]
  },
  {
   "cell_type": "code",
   "execution_count": null,
   "metadata": {},
   "outputs": [],
   "source": [
    "exclude = (( PURPOSE != 1 ) * ( PURPOSE != 3 ) + ( CHOICE == 0 )) > 0\n",
    "\n",
    "database.remove(exclude)"
   ]
  },
  {
   "cell_type": "markdown",
   "metadata": {},
   "source": [
    "**Define some dummy variables**"
   ]
  },
  {
   "cell_type": "code",
   "execution_count": null,
   "metadata": {},
   "outputs": [],
   "source": [
    "SM_COST = SM_CO * ( GA == 0 )\n",
    "TRAIN_COST = TRAIN_CO * ( GA == 0 )\n",
    "\n",
    "CAR_AV_SP = DefineVariable ('CAR_AV_SP', CAR_AV * ( SP !=0 ), database)\n",
    "TRAIN_AV_SP = DefineVariable ('TRAIN_AV_SP', TRAIN_AV * ( SP != 0 ), database)"
   ]
  },
  {
   "cell_type": "markdown",
   "metadata": {},
   "source": [
    "**Rescale some data**"
   ]
  },
  {
   "cell_type": "code",
   "execution_count": null,
   "metadata": {},
   "outputs": [],
   "source": [
    "TRAIN_TT_SCALED   = DefineVariable('TRAIN_TT_SCALED',   TRAIN_TT / 100.0, database)\n",
    "TRAIN_COST_SCALED = DefineVariable('TRAIN_COST_SCALED', TRAIN_COST / 100, database)\n",
    "SM_TT_SCALED      = DefineVariable('SM_TT_SCALED',      SM_TT / 100.0   , database)\n",
    "SM_COST_SCALED    = DefineVariable('SM_COST_SCALED',    SM_COST / 100   , database)\n",
    "CAR_TT_SCALED     = DefineVariable('CAR_TT_SCALED',     CAR_TT / 100    , database)\n",
    "CAR_CO_SCALED     = DefineVariable('CAR_CO_SCALED',     CAR_CO / 100    , database)"
   ]
  },
  {
   "cell_type": "markdown",
   "metadata": {},
   "source": [
    "**Create parameters to be estimated**"
   ]
  },
  {
   "cell_type": "code",
   "execution_count": null,
   "metadata": {},
   "outputs": [],
   "source": [
    "ASC_CAR = Beta('ASC_CAR',0,None ,None ,0)\n",
    "ASC_TRAIN = Beta('ASC_TRAIN',0,None ,None ,0)\n",
    "ASC_SM = Beta('ASC_SM',0,None ,None ,1)\n",
    "B_TIME = Beta('B_TIME',0,None ,None ,0)\n",
    "B_COST = Beta('B_COST',0,None ,None ,0)"
   ]
  },
  {
   "cell_type": "markdown",
   "metadata": {},
   "source": [
    "**Define the utility functions**"
   ]
  },
  {
   "cell_type": "code",
   "execution_count": null,
   "metadata": {},
   "outputs": [],
   "source": [
    "V1 = ASC_TRAIN + \\\n",
    "     B_TIME * TRAIN_TT_SCALED + \\\n",
    "     B_COST * TRAIN_COST_SCALED\n",
    "V2 = ASC_SM + \\\n",
    "     B_TIME * SM_TT_SCALED + \\\n",
    "     B_COST * SM_COST_SCALED\n",
    "V3 = ASC_CAR + \\\n",
    "     B_TIME * CAR_TT_SCALED + \\\n",
    "     B_COST * CAR_CO_SCALED"
   ]
  },
  {
   "cell_type": "markdown",
   "metadata": {},
   "source": [
    "**Associate utility functions with alternatives and associate availability of alternatives**"
   ]
  },
  {
   "cell_type": "code",
   "execution_count": null,
   "metadata": {},
   "outputs": [],
   "source": [
    "V = {1: V1,\n",
    "     2: V2,\n",
    "     3: V3}\n",
    "\n",
    "av = {1: TRAIN_AV_SP,\n",
    "      2: SM_AV,\n",
    "      3: CAR_AV_SP}"
   ]
  },
  {
   "cell_type": "markdown",
   "metadata": {},
   "source": [
    "**Define the model**"
   ]
  },
  {
   "cell_type": "code",
   "execution_count": null,
   "metadata": {},
   "outputs": [],
   "source": [
    "logprob = bioLogLogit(V,av,CHOICE)"
   ]
  },
  {
   "cell_type": "markdown",
   "metadata": {},
   "source": [
    "**Define the Biogeme object**"
   ]
  },
  {
   "cell_type": "code",
   "execution_count": null,
   "metadata": {},
   "outputs": [],
   "source": [
    "biogeme  = bio.BIOGEME(database, logprob)\n",
    "\n",
    "biogeme.modelName = \"swissmetro_logit_estimators\""
   ]
  },
  {
   "cell_type": "markdown",
   "metadata": {},
   "source": [
    "**Define the algorithms to estimat the maximum likelihood**"
   ]
  },
  {
   "cell_type": "code",
   "execution_count": null,
   "metadata": {},
   "outputs": [],
   "source": [
    "algos={'CFSQP':None,\n",
    "       'scipy':opt.scipy,\n",
    "       'Line search':opt.newtonLineSearchForBiogeme,\n",
    "       'Trust region (dogleg)':opt.newtonTrustRegionForBiogeme,\n",
    "       'Trust region (cg)':opt.newtonTrustRegionForBiogeme}\n",
    "\n",
    "algoParameters ={'Trust region (dogleg)':{'dogleg':True},\n",
    "                 'Trust region (cg)':{'dogleg':False}}"
   ]
  },
  {
   "cell_type": "markdown",
   "metadata": {},
   "source": [
    "**Estimate the model**"
   ]
  },
  {
   "cell_type": "code",
   "execution_count": null,
   "metadata": {},
   "outputs": [],
   "source": [
    "biogeme.generateHtml = False\n",
    "biogeme.generatePickle = False\n",
    "\n",
    "results_algo = {}\n",
    "for name,algo in algos.items():\n",
    "    p = algoParameters.get(name)\n",
    "    results_algo[name] = biogeme.estimate(algorithm=algo,algoParameters=p)\n",
    "    g = results_algo[name].data.g\n",
    "    biogeme.createLogFile()"
   ]
  },
  {
   "cell_type": "markdown",
   "metadata": {},
   "source": [
    "**Print results for the different algorithms**"
   ]
  },
  {
   "cell_type": "code",
   "execution_count": null,
   "metadata": {},
   "outputs": [],
   "source": [
    "print(\"Algorithm             loglike         normg    time          feval diagnostic\")\n",
    "print(\"+++++++++             +++++++         +++++    ++++          +++++ ++++++++++\")\n",
    "for name,algo in algos.items():\n",
    "    print(f\"{name:21} {results_algo[name].data.logLike:10.7f} {np.inner(g,g):10.3g} {results_algo[name].data.optimizationTime} {results_algo[name].data.numberOfFunctionEval:4} {results_algo[name].data.optimizationMessage}\")\n",
    "\n"
   ]
  },
  {
   "cell_type": "markdown",
   "metadata": {},
   "source": [
    "**Print results**"
   ]
  },
  {
   "cell_type": "code",
   "execution_count": null,
   "metadata": {},
   "outputs": [],
   "source": [
    "results_1 = results_algo['scipy']\n",
    "results_2 = results_algo['CFSQP']\n",
    "results_3 = results_algo['Line search']\n",
    "\n",
    "betas_1 = results_1.getBetaValues()\n",
    "betas_2 = results_2.getBetaValues()\n",
    "betas_3 = results_3.getBetaValues()\n",
    "\n",
    "for k in betas_1.keys():\n",
    "    b_1 = betas_1[k]\n",
    "    b_2 = betas_2[k]\n",
    "    b_3 = betas_3[k]\n",
    "    print(f\"{k:10}=\\t{b_1:.8g}\\t{b_2:.8g}\\t{b_3:.8g}\")"
   ]
  },
  {
   "cell_type": "markdown",
   "metadata": {},
   "source": [
    "**Explore the results**"
   ]
  },
  {
   "cell_type": "code",
   "execution_count": null,
   "metadata": {},
   "outputs": [],
   "source": [
    "results = results_algo['scipy']\n",
    "\n",
    "Results = results.getEstimatedParameters()\n",
    "display(Results)"
   ]
  },
  {
   "cell_type": "markdown",
   "metadata": {},
   "source": [
    "**Get the general statistics**\n",
    "* Number of estimated parameters($K$)\n",
    "* Sample size ($N$)\n",
    "* Number of excluded observations\n",
    "* Log likelihood of the sample with the default values for the parameters ($\\mathcal{L}^i)$)\n",
    "* Log likelihood for the final estimated model ($\\mathcal{L}^*)$)\n",
    "* Likelihood ratio:\n",
    "\\begin{align}\n",
    "-2 (\\mathcal{L}^i-\\mathcal{L}^*)\n",
    "\\end{align}\n",
    "* Rho-square for the init model\n",
    "\\begin{align}\n",
    "\\rho^2 = 1- \\frac{\\mathcal{L}^*}{\\mathcal{L}^i}\n",
    "\\end{align}\n",
    "* Rho-square adjusted for the init model\n",
    "\\begin{align}\n",
    "\\rho^2 = 1- \\frac{\\mathcal{L}^* - K}{\\mathcal{L}^i}\n",
    "\\end{align}\n",
    "* Akaike Information Criterion\n",
    "\\begin{align}\n",
    "2 K - 2 \\mathcal{L}^*\n",
    "\\end{align}\n",
    "* Bayesian Information Criterion\n",
    "\\begin{align}\n",
    "K N- 2 \\mathcal{L}^*\n",
    "\\end{align}\n",
    "* Final gradient norm\n",
    "* Iterations\n",
    "* Optimization Time"
   ]
  },
  {
   "cell_type": "code",
   "execution_count": null,
   "metadata": {},
   "outputs": [],
   "source": [
    "gs = results.getGeneralStatistics()\n",
    "\n",
    "for k,v in gs.items():\n",
    "    print(\"{}= {}\".format(k.ljust(45),v[0]))\n",
    "# print(gs)"
   ]
  },
  {
   "cell_type": "markdown",
   "metadata": {},
   "source": [
    "**Clean up output files**"
   ]
  },
  {
   "cell_type": "code",
   "execution_count": null,
   "metadata": {},
   "outputs": [],
   "source": [
    "import glob, os\n",
    "\n",
    "result_files = glob.glob(biogeme.modelName+'*')\n",
    "result_files = [x for x in result_files if x != biogeme.modelName+'.ipynb']\n",
    "if len(result_files) != 0:\n",
    "    result_dir = \"results\"\n",
    "    print('Moving the following files:')\n",
    "    for result_file in result_files:\n",
    "        print('\\t',result_file)\n",
    "        os.rename(result_file, os.path.join(result_dir, result_file))"
   ]
  }
 ],
 "metadata": {
  "kernelspec": {
   "display_name": "Python 3",
   "language": "python",
   "name": "python3"
  },
  "language_info": {
   "codemirror_mode": {
    "name": "ipython",
    "version": 3
   },
   "file_extension": ".py",
   "mimetype": "text/x-python",
   "name": "python",
   "nbconvert_exporter": "python",
   "pygments_lexer": "ipython3",
   "version": "3.7.3"
  }
 },
 "nbformat": 4,
 "nbformat_minor": 2
}
