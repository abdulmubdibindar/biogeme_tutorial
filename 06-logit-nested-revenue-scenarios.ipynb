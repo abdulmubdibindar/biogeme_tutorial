{
 "cells": [
  {
   "cell_type": "markdown",
   "metadata": {},
   "source": [
    "# Nested Logit Model: Simulate different scenarios with different prices for public transportation"
   ]
  },
  {
   "cell_type": "code",
   "execution_count": null,
   "metadata": {},
   "outputs": [],
   "source": [
    "import pandas as pd\n",
    "import biogeme.database as db\n",
    "import biogeme.biogeme as bio\n",
    "import biogeme.models as models\n",
    "import biogeme.results as res\n",
    "import matplotlib.pyplot as plt"
   ]
  },
  {
   "cell_type": "markdown",
   "metadata": {},
   "source": [
    "**Import Optima data**"
   ]
  },
  {
   "cell_type": "code",
   "execution_count": null,
   "metadata": {},
   "outputs": [],
   "source": [
    "pandas = pd.read_csv(\"data/optima.dat\",sep='\\t')\n",
    "database = db.Database (\"data/optima\", pandas)"
   ]
  },
  {
   "cell_type": "markdown",
   "metadata": {},
   "source": [
    "**Use collumn names as variables**"
   ]
  },
  {
   "cell_type": "code",
   "execution_count": null,
   "metadata": {},
   "outputs": [],
   "source": [
    "from headers import *"
   ]
  },
  {
   "cell_type": "markdown",
   "metadata": {},
   "source": [
    "**Exclude some unwanted entries**"
   ]
  },
  {
   "cell_type": "code",
   "execution_count": null,
   "metadata": {},
   "outputs": [],
   "source": [
    "exclude = (Choice == -1.)\n",
    "database.remove(exclude)"
   ]
  },
  {
   "cell_type": "markdown",
   "metadata": {},
   "source": [
    "**Rescale some data**"
   ]
  },
  {
   "cell_type": "code",
   "execution_count": null,
   "metadata": {},
   "outputs": [],
   "source": [
    "TimePT_scaled = TimePT / 200\n",
    "TimeCar_scaled = TimeCar / 200\n",
    "MarginalCostPT_scaled = MarginalCostPT / 10 \n",
    "CostCarCHF_scaled = CostCarCHF / 10\n",
    "distance_km_scaled = distance_km / 5"
   ]
  },
  {
   "cell_type": "markdown",
   "metadata": {},
   "source": [
    "**Define some dummy variables**"
   ]
  },
  {
   "cell_type": "code",
   "execution_count": null,
   "metadata": {},
   "outputs": [],
   "source": [
    "male = (Gender == 1)\n",
    "female = (Gender == 2)\n",
    "unreportedGender = (Gender == -1)\n",
    "\n",
    "fulltime = (OccupStat == 1)\n",
    "notfulltime = (OccupStat != 1)"
   ]
  },
  {
   "cell_type": "markdown",
   "metadata": {},
   "source": [
    "**Compute normalizing weights for each alternative**"
   ]
  },
  {
   "cell_type": "code",
   "execution_count": null,
   "metadata": {},
   "outputs": [],
   "source": [
    "sumWeight = database.data['Weight'].sum()\n",
    "normalized_Weight = Weight * len(database.data['Weight']) / sumWeight"
   ]
  },
  {
   "cell_type": "markdown",
   "metadata": {},
   "source": [
    "**Define a scenario calculator to simulate different prices of public transportation**"
   ]
  },
  {
   "cell_type": "code",
   "execution_count": null,
   "metadata": {},
   "outputs": [],
   "source": [
    "def scenario(scale):\n",
    "    # Define variables that depend on cost\n",
    "    MarginalCostScenario = MarginalCostPT * scale\n",
    "    MarginalCostPT_scaled = MarginalCostScenario / 10\n",
    "    \n",
    "    # Define other variables\n",
    "    ASC_CAR = Beta('ASC_CAR',0,None,None,0)\n",
    "    ASC_PT = Beta('ASC_PT',0,None,None,1)\n",
    "    ASC_SM = Beta('ASC_SM',0,None,None,0)\n",
    "    BETA_TIME_FULLTIME = Beta('BETA_TIME_FULLTIME',0,None,None,0)\n",
    "    BETA_TIME_OTHER = Beta('BETA_TIME_OTHER',0,None,None,0)\n",
    "    BETA_DIST_MALE = Beta('BETA_DIST_MALE',0,None,None,0)\n",
    "    BETA_DIST_FEMALE = Beta('BETA_DIST_FEMALE',0,None,None,0)\n",
    "    BETA_DIST_UNREPORTED = Beta('BETA_DIST_UNREPORTED',0,None,None,0)\n",
    "    BETA_COST = Beta('BETA_COST',0,None,None,0)\n",
    "\n",
    "    # Utility functions\n",
    "    V_PT = ASC_PT + BETA_TIME_FULLTIME * TimePT_scaled * fulltime + \\\n",
    "           BETA_TIME_OTHER * TimePT_scaled * notfulltime + \\\n",
    "           BETA_COST * MarginalCostPT_scaled\n",
    "    V_CAR = ASC_CAR + \\\n",
    "            BETA_TIME_FULLTIME * TimeCar_scaled * fulltime + \\\n",
    "            BETA_TIME_OTHER * TimeCar_scaled * notfulltime + \\\n",
    "            BETA_COST * CostCarCHF_scaled\n",
    "    V_SM = ASC_SM + \\\n",
    "           BETA_DIST_MALE * distance_km_scaled * male + \\\n",
    "           BETA_DIST_FEMALE * distance_km_scaled * female + \\\n",
    "           BETA_DIST_UNREPORTED * distance_km_scaled * unreportedGender\n",
    "    \n",
    "    # Aggregate utility functions\n",
    "    V = {0: V_PT,\n",
    "         1: V_CAR,\n",
    "         2: V_SM}\n",
    "    \n",
    "    # Availability of alternatives\n",
    "    av = {0: 1,\n",
    "          1: 1,\n",
    "          2: 1}\n",
    "    \n",
    "    # Nests definitions\n",
    "    MU_NO_CAR = Beta('MU_NO_CAR',1.0,1.0,None,0)\n",
    "    CAR_NEST = 1.0 , [ 1]\n",
    "    NO_CAR_NEST = MU_NO_CAR , [ 0, 2]\n",
    "    nests = CAR_NEST, NO_CAR_NEST\n",
    "    \n",
    "    # Model\n",
    "    prob_pt = models.nested(V,av,nests,0)\n",
    "    \n",
    "    # Define simulation variables\n",
    "    simulate = {'weight': normalized_Weight,\n",
    "                'Revenue public transportation':\n",
    "                   prob_pt * MarginalCostScenario}\n",
    "\n",
    "    # Create Biogeme object\n",
    "    biogeme  = bio.BIOGEME(database,simulate)\n",
    "    betas = biogeme.freeBetaNames\n",
    "\n",
    "    # Read the estimation results from the previously estimated model\n",
    "    results = res.bioResults(pickleFile='results/optima_nested_logit.pickle')\n",
    "\n",
    "    # Extract the values that are necessary\n",
    "    betaValues = results.getBetaValues(betas)\n",
    "    \n",
    "    # Simulate\n",
    "    simulatedValues = biogeme.simulate(betaValues)\n",
    "\n",
    "    # We calculate the sum for all individuals of the generated revenues.\n",
    "    revenues_pt = (simulatedValues['Revenue public transportation'] * simulatedValues['weight']).sum()\n",
    "    return revenues_pt"
   ]
  },
  {
   "cell_type": "markdown",
   "metadata": {},
   "source": [
    "**Create scales for different pricings on the public transportation and run the different scenarios**"
   ]
  },
  {
   "cell_type": "code",
   "execution_count": null,
   "metadata": {},
   "outputs": [],
   "source": [
    "scales = np.arange(0.0,5.0,0.1)\n",
    "revenues = [scenario(s) for s in scales]"
   ]
  },
  {
   "cell_type": "markdown",
   "metadata": {},
   "source": [
    "**Plot the results**"
   ]
  },
  {
   "cell_type": "code",
   "execution_count": null,
   "metadata": {},
   "outputs": [],
   "source": [
    "plt.plot(scales,revenues)\n",
    "plt.xlabel(\"Modification of the price of public transportation (%)\")\n",
    "plt.ylabel(\"Revenues\")\n",
    "plt.show()"
   ]
  },
  {
   "cell_type": "code",
   "execution_count": null,
   "metadata": {},
   "outputs": [],
   "source": []
  }
 ],
 "metadata": {
  "kernelspec": {
   "display_name": "Python 3",
   "language": "python",
   "name": "python3"
  },
  "language_info": {
   "codemirror_mode": {
    "name": "ipython",
    "version": 3
   },
   "file_extension": ".py",
   "mimetype": "text/x-python",
   "name": "python",
   "nbconvert_exporter": "python",
   "pygments_lexer": "ipython3",
   "version": "3.7.3"
  }
 },
 "nbformat": 4,
 "nbformat_minor": 2
}
